{
 "cells": [
  {
   "cell_type": "code",
   "execution_count": 1,
   "id": "7b3b436f",
   "metadata": {},
   "outputs": [],
   "source": [
    "import numpy as np\n",
    "import numpy.random\n",
    "\n",
    "# Моделирование данных датчика\n",
    "def simulateSensor(samplesCount, noiseSigma, dt):\n",
    "   # Шум с нормальным распределением. мат. ожидание = 0, среднеквадратичное отклонение = noiseSigma\n",
    "   noise = numpy.random.normal(loc = 0.0, scale = noiseSigma, size = samplesCount)\n",
    "\n",
    "   trajectory = np.zeros((3, samplesCount))\n",
    "\n",
    "   position = 0\n",
    "   velocity = 1.0\n",
    "   acceleration = 0.0\n",
    "\n",
    "   for i in range(1, samplesCount):\n",
    "       position = position + velocity * dt + (acceleration * dt ** 2) / 2.0\n",
    "       velocity = velocity + acceleration * dt\n",
    "       acceleration = acceleration\n",
    "\n",
    "       trajectory[0][i] = position\n",
    "       trajectory[1][i] = velocity\n",
    "       trajectory[2][i] = acceleration\n",
    "\n",
    "   measurement = trajectory[0] + noise\n",
    "\n",
    "   return trajectory, measurement # Истинное значение и данные \"датчика\" с шумом\n"
   ]
  }
 ],
 "metadata": {
  "kernelspec": {
   "display_name": "Python 3 (ipykernel)",
   "language": "python",
   "name": "python3"
  },
  "language_info": {
   "codemirror_mode": {
    "name": "ipython",
    "version": 3
   },
   "file_extension": ".py",
   "mimetype": "text/x-python",
   "name": "python",
   "nbconvert_exporter": "python",
   "pygments_lexer": "ipython3",
   "version": "3.11.3"
  }
 },
 "nbformat": 4,
 "nbformat_minor": 5
}
